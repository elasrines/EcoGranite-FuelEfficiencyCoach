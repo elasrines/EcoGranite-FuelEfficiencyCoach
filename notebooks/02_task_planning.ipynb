{
 "cells": [
  {
   "cell_type": "markdown",
   "id": "383f4845",
   "metadata": {},
   "source": [
    "### 1. Planned Data Processing Steps\n",
    "\n",
    "1. **Data Loading**\n",
    "   - Load all KIT CSV files (one per trip) and merge into a single DataFrame\n",
    "   - Parse timestamps and calculate sampling interval (`dt_s`)\n",
    "\n",
    "2. **Data Cleaning**\n",
    "   - Drop initial all-NaN segments\n",
    "   - Forward-fill short gaps between sensor samples\n",
    "   - Remove negative or unrealistic values\n",
    "\n",
    "3. **Feature Engineering**\n",
    "   - Compute instantaneous and average fuel consumption from MAF.\n",
    "   - Detect patterns such as:\n",
    "     - High RPM at low speed  \n",
    "     - Repeated throttle spikes  \n",
    "     - Long idling periods  \n",
    "     - Frequent acceleration–brake cycles\n",
    "\n",
    "### 2. IBM Granite Integration Plan\n",
    "\n",
    "**Goal:** Use Granite to translate numeric patterns into natural language feedback.\n",
    "\n",
    "Example prompt structure:\n",
    "\n",
    "Input:\n",
    "Trip summary:\n",
    "Avg RPM: 2100\n",
    "Avg Speed: 45 km/h\n",
    "Idling time: 12%\n",
    "Pattern detected: frequent high RPM at low speed\n",
    "\n",
    "Output:\n",
    "\"Frequent high RPM detected — consider shifting earlier to improve fuel economy.\"\n",
    "\n",
    "\n",
    "**Granite Model:** `Granite-3.3-Instruct`  \n",
    "**Deployment:** via Hugging Face or Watsonx.ai (depending on access)\n",
    "\n",
    "### 3. Visualizations to Build\n",
    "\n",
    "- Fuel efficiency (L/100 km) over time  \n",
    "- RPM vs. Speed scatter plot  \n",
    "- Idling duration per trip  \n",
    "- Histogram of throttle variation  \n",
    "\n",
    "Each visualization will help validate pattern detection and support the feedback generation stage.\n"
   ]
  }
 ],
 "metadata": {
  "kernelspec": {
   "display_name": "Python 3",
   "language": "python",
   "name": "python3"
  },
  "language_info": {
   "codemirror_mode": {
    "name": "ipython",
    "version": 3
   },
   "file_extension": ".py",
   "mimetype": "text/x-python",
   "name": "python",
   "nbconvert_exporter": "python",
   "pygments_lexer": "ipython3",
   "version": "3.11.12"
  }
 },
 "nbformat": 4,
 "nbformat_minor": 5
}
